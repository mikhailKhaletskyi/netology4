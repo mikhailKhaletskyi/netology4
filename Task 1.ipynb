{
 "cells": [
  {
   "cell_type": "code",
   "execution_count": 137,
   "id": "bc230749",
   "metadata": {},
   "outputs": [],
   "source": [
    "documents = [\n",
    "{'type': 'passport', 'number': '2207 876234', 'name': 'Василий Гупкин'},\n",
    "{'type': 'invoice', 'number': '11-2', 'name': 'Геннадий Покемонов'},\n",
    "{'type': 'insurance', 'number': '10006', 'name': 'Аристарх Павлов'}\n",
    "]\n",
    "\n",
    "directories = {\n",
    "'1': ['2207 876234', '11-2'],\n",
    "'2': ['10006'],\n",
    "'3': []\n",
    "}"
   ]
  },
  {
   "cell_type": "code",
   "execution_count": 37,
   "id": "25b0ea88",
   "metadata": {},
   "outputs": [],
   "source": [
    "def p(documents):\n",
    "    number = input(\"Введите номер документа: \")\n",
    "    name = \"Документ не найден в базе\"\n",
    "    for items in documents:\n",
    "        if number == items['number']:\n",
    "            name = items['name']\n",
    "    return name"
   ]
  },
  {
   "cell_type": "code",
   "execution_count": 58,
   "id": "8c950b21",
   "metadata": {},
   "outputs": [],
   "source": [
    "def s(documents, directories, number):\n",
    "    name = \"Документ не найден в базе\"\n",
    "    for items in directories:\n",
    "        arr = directories.get(items, 'Not Found')\n",
    "        if str(number) in arr:\n",
    "            name = items\n",
    "    return name"
   ]
  },
  {
   "cell_type": "code",
   "execution_count": 80,
   "id": "262bf198",
   "metadata": {},
   "outputs": [],
   "source": [
    "def l(documents, directories):\n",
    "    newDocument = documents\n",
    "    for items in newDocument:\n",
    "        polka = s(newDocument, directories, items['number'])\n",
    "        items['полка хранения'] = polka\n",
    "        print(items)\n",
    "    return "
   ]
  },
  {
   "cell_type": "code",
   "execution_count": 139,
   "id": "5eb24c39",
   "metadata": {},
   "outputs": [],
   "source": [
    "def as1(directories):\n",
    "    number = input(\"Введите номер полки:\")\n",
    "    arr = list(directories.keys())\n",
    "    if str(number) in arr:\n",
    "        arr.sort()\n",
    "        print(\"Такая полка уже существует. Текущий перечень полок: \" + ', '.join(arr))\n",
    "    else:\n",
    "        arr.append(number)\n",
    "        arr.sort()\n",
    "        directories[number] = []\n",
    "        print(\"Полка добавлена. Текущий перечень полок: \" + ', '.join(arr))\n",
    "    return"
   ]
  },
  {
   "cell_type": "code",
   "execution_count": 142,
   "id": "a6249ba1",
   "metadata": {},
   "outputs": [],
   "source": [
    "def ds(directories):\n",
    "    number = input(\"Введите номер полки:\")\n",
    "    if number not in list(directories.keys()):\n",
    "        print(\"Такой полки не существует. Текущий перечень полок: \" + ', '.join(list(directories.keys())))\n",
    "    elif directories[number] == []:\n",
    "        del(directories[number])\n",
    "        arr = list(directories.keys())\n",
    "        arr.sort()\n",
    "        print(\"Полка удалена. Текущий перечень полок: \" + ', '.join(arr))\n",
    "    else:\n",
    "        print(\"На полке есть документы, удалите их перед удалением полки. Текущий перечень полок: \" + ', '.join(list(directories.keys())))"
   ]
  },
  {
   "cell_type": "code",
   "execution_count": 144,
   "id": "5c4f3607",
   "metadata": {},
   "outputs": [
    {
     "name": "stdout",
     "output_type": "stream",
     "text": [
      "Введите команду: ds\n",
      "Введите номер полки:4\n",
      "Полка удалена. Текущий перечень полок: 1, 2, 3, 5\n",
      "Введите команду: ds\n",
      "Введите номер полки:5\n",
      "Полка удалена. Текущий перечень полок: 1, 2, 3\n",
      "Введите команду: ds\n",
      "Введите номер полки:2\n",
      "На полке есть документы, удалите их перед удалением полки. Текущий перечень полок: 1, 2, 3\n",
      "Введите команду: ds\n",
      "Введите номер полки:7\n",
      "Такой полки не существует. Текущий перечень полок: 1, 2, 3\n",
      "Введите команду: s\n",
      "Введите номер документа: 2207 876234\n",
      "Документ хранится на полке: 1\n",
      "Введите команду: p\n",
      "Введите номер документа: 2207 876234\n",
      "Владелец документа: Василий Гупкин\n",
      "Введите команду: l\n",
      "{'type': 'passport', 'number': '2207 876234', 'name': 'Василий Гупкин', 'полка хранения': '1'}\n",
      "{'type': 'invoice', 'number': '11-2', 'name': 'Геннадий Покемонов', 'полка хранения': '1'}\n",
      "{'type': 'insurance', 'number': '10006', 'name': 'Аристарх Павлов', 'полка хранения': '2'}\n",
      "Введите команду: q\n"
     ]
    }
   ],
   "source": [
    "while True:\n",
    "    func = input(\"Введите команду: \")\n",
    "    if func == \"q\":\n",
    "        break\n",
    "    elif func == \"p\":\n",
    "        print(\"Владелец документа:\", eval(func + \"(documents)\"))\n",
    "    elif func == \"s\":\n",
    "        print(\"Документ хранится на полке:\", eval(func + \"(documents, directories,\" +  \"'\" + input(\"Введите номер документа: \") + \"'\"  + \")\" ))\n",
    "    elif func == \"l\":\n",
    "        eval(func + \"(documents, directories)\")\n",
    "    elif func == \"as\":\n",
    "        eval(func+\"1\" + \"(directories)\")\n",
    "    elif func == \"ds\":\n",
    "        eval(func + \"(directories)\")"
   ]
  }
 ],
 "metadata": {
  "kernelspec": {
   "display_name": "Python 3",
   "language": "python",
   "name": "python3"
  },
  "language_info": {
   "codemirror_mode": {
    "name": "ipython",
    "version": 3
   },
   "file_extension": ".py",
   "mimetype": "text/x-python",
   "name": "python",
   "nbconvert_exporter": "python",
   "pygments_lexer": "ipython3",
   "version": "3.9.0"
  }
 },
 "nbformat": 4,
 "nbformat_minor": 5
}
